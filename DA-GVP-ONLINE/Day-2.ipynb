{
 "cells": [
  {
   "cell_type": "markdown",
   "id": "9c10e341",
   "metadata": {},
   "source": [
    "#### Day objectives:\n",
    "        - shortcuts on jupyter notebook\n",
    "        - python concepts\n",
    "                - package and module\n",
    "                - file handling in python"
   ]
  },
  {
   "cell_type": "markdown",
   "id": "bb85cac1",
   "metadata": {},
   "source": [
    "### literate programming:\n",
    "    - it is a combination of both coding and documentation\n",
    "    \n",
    "#### shortcuts:\n",
    "        - insert a cell for above--->a\n",
    "        - insert a cell for below--->b\n",
    "        - delete a cell--->dd\n",
    "        - code mode--->y\n",
    "        - markdown/document mode--->m\n",
    "        - run a cell--->shift+enter,cntrl+enter"
   ]
  },
  {
   "cell_type": "markdown",
   "id": "e4ac7a26",
   "metadata": {},
   "source": []
  },
  {
   "cell_type": "code",
   "execution_count": null,
   "id": "77a3832a",
   "metadata": {},
   "outputs": [],
   "source": [
    "for the headings we are using '#' symbol"
   ]
  },
  {
   "cell_type": "code",
   "execution_count": null,
   "id": "c8dd4b43",
   "metadata": {},
   "outputs": [],
   "source": [
    "#### Markdown syntax:"
   ]
  },
  {
   "cell_type": "markdown",
   "id": "26e7d8e2",
   "metadata": {},
   "source": [
    "# Heading\n",
    "## Heading2\n",
    "### Heading3\n",
    "#### heading4\n",
    "##### heading5\n",
    "###### heading 6\n",
    "#######"
   ]
  },
  {
   "cell_type": "markdown",
   "id": "0f26740b",
   "metadata": {},
   "source": [
    "#### python Basics:\n",
    "    - print a statement\n",
    "    - variable creation\n",
    "    - keywords in python\n",
    "    - data types in python\n",
    "    - python operators\n",
    "    - dynamic input in python"
   ]
  },
  {
   "cell_type": "code",
   "execution_count": 1,
   "id": "044df08d",
   "metadata": {},
   "outputs": [
    {
     "name": "stdout",
     "output_type": "stream",
     "text": [
      "Hello world!\n"
     ]
    }
   ],
   "source": [
    "print(\"Hello world!\")"
   ]
  },
  {
   "cell_type": "code",
   "execution_count": 2,
   "id": "6885c9fa",
   "metadata": {},
   "outputs": [
    {
     "name": "stdout",
     "output_type": "stream",
     "text": [
      "hello students! welcome to data analysis online session \n"
     ]
    }
   ],
   "source": [
    "print(\"hello students! welcome to data analysis online session \")"
   ]
  },
  {
   "cell_type": "markdown",
   "id": "55b83b0f",
   "metadata": {},
   "source": [
    "#### variable declaration:\n",
    "    - variable:\n",
    "            - it is used to store the data\n",
    "            - syntax:\n",
    "                variable_name=data/value\n",
    "                \n",
    "##### rules:\n",
    "    - "
   ]
  },
  {
   "cell_type": "code",
   "execution_count": 3,
   "id": "6a612f4d",
   "metadata": {},
   "outputs": [
    {
     "name": "stdout",
     "output_type": "stream",
     "text": [
      "10\n"
     ]
    }
   ],
   "source": [
    "a=10\n",
    "print(a)"
   ]
  },
  {
   "cell_type": "code",
   "execution_count": 4,
   "id": "9d9a3d41",
   "metadata": {},
   "outputs": [
    {
     "ename": "SyntaxError",
     "evalue": "invalid syntax (2818938494.py, line 1)",
     "output_type": "error",
     "traceback": [
      "\u001b[1;36m  File \u001b[1;32m\"C:\\Users\\win\\AppData\\Local\\Temp\\ipykernel_5728\\2818938494.py\"\u001b[1;36m, line \u001b[1;32m1\u001b[0m\n\u001b[1;33m    9a=89\u001b[0m\n\u001b[1;37m     ^\u001b[0m\n\u001b[1;31mSyntaxError\u001b[0m\u001b[1;31m:\u001b[0m invalid syntax\n"
     ]
    }
   ],
   "source": [
    "9a=89\n",
    "print(9a)"
   ]
  },
  {
   "cell_type": "code",
   "execution_count": 6,
   "id": "fa748f09",
   "metadata": {},
   "outputs": [
    {
     "name": "stdout",
     "output_type": "stream",
     "text": [
      "100\n"
     ]
    }
   ],
   "source": [
    "a9=100\n",
    "print(a9)"
   ]
  },
  {
   "cell_type": "code",
   "execution_count": 7,
   "id": "b6d59d9d",
   "metadata": {},
   "outputs": [
    {
     "name": "stdout",
     "output_type": "stream",
     "text": [
      "python\n"
     ]
    }
   ],
   "source": [
    "basic_variable=\"python\"\n",
    "print(basic_variable)"
   ]
  },
  {
   "cell_type": "code",
   "execution_count": 8,
   "id": "22874c1e",
   "metadata": {},
   "outputs": [
    {
     "name": "stdout",
     "output_type": "stream",
     "text": [
      "90\n"
     ]
    }
   ],
   "source": [
    "_a=90\n",
    "print(_a)"
   ]
  },
  {
   "cell_type": "code",
   "execution_count": 12,
   "id": "1529b57c",
   "metadata": {
    "collapsed": true
   },
   "outputs": [
    {
     "name": "stdout",
     "output_type": "stream",
     "text": [
      "80\n",
      "80\n",
      "80\n",
      "80 80 80\n"
     ]
    }
   ],
   "source": [
    "#### multiple variables with single value\n",
    "x=y=z=80\n",
    "print(y)\n",
    "print(z)\n",
    "print(x)\n",
    "print(x,y,z)"
   ]
  },
  {
   "cell_type": "code",
   "execution_count": 15,
   "id": "07670b06",
   "metadata": {
    "collapsed": true
   },
   "outputs": [
    {
     "name": "stdout",
     "output_type": "stream",
     "text": [
      "30\n",
      "10\n",
      "20\n"
     ]
    }
   ],
   "source": [
    "#### multiple variables with multiple values\n",
    "a,b,c=10,20,30\n",
    "print(c)\n",
    "print(a)\n",
    "print(b)"
   ]
  },
  {
   "cell_type": "markdown",
   "id": "d8cee54c",
   "metadata": {},
   "source": [
    "#### Data types in python\n",
    "        - data type:\n",
    "             - it return type of the data\n",
    "             - by using type function we can findout the data\n",
    "             - syntax:\n",
    "                     type(data)\n",
    "             - python contains 3 different types of data types:\n",
    "                         - int\n",
    "                         - float\n",
    "                         - str\n"
   ]
  },
  {
   "cell_type": "code",
   "execution_count": 17,
   "id": "adc782ce",
   "metadata": {},
   "outputs": [
    {
     "name": "stdout",
     "output_type": "stream",
     "text": [
      "78\n"
     ]
    },
    {
     "data": {
      "text/plain": [
       "int"
      ]
     },
     "execution_count": 17,
     "metadata": {},
     "output_type": "execute_result"
    }
   ],
   "source": [
    "i=78\n",
    "print(i)\n",
    "type(i)"
   ]
  },
  {
   "cell_type": "code",
   "execution_count": 18,
   "id": "1c6b1b36",
   "metadata": {},
   "outputs": [
    {
     "name": "stdout",
     "output_type": "stream",
     "text": [
      "python workshop\n"
     ]
    }
   ],
   "source": [
    "j='python workshop'\n",
    "print(j)"
   ]
  },
  {
   "cell_type": "code",
   "execution_count": 20,
   "id": "bb4ed466",
   "metadata": {},
   "outputs": [
    {
     "data": {
      "text/plain": [
       "str"
      ]
     },
     "execution_count": 20,
     "metadata": {},
     "output_type": "execute_result"
    }
   ],
   "source": [
    "type(j)"
   ]
  },
  {
   "cell_type": "code",
   "execution_count": 22,
   "id": "36775473",
   "metadata": {},
   "outputs": [
    {
     "name": "stdout",
     "output_type": "stream",
     "text": [
      "67.89\n"
     ]
    },
    {
     "data": {
      "text/plain": [
       "float"
      ]
     },
     "execution_count": 22,
     "metadata": {},
     "output_type": "execute_result"
    }
   ],
   "source": [
    "k=67.89\n",
    "print(k)\n",
    "type(k)"
   ]
  },
  {
   "cell_type": "markdown",
   "id": "57a82b14",
   "metadata": {},
   "source": [
    "#### keywords in python:\n",
    "        - keyword:\n",
    "            - it is a reserved words\n",
    "            - total keywords in python:35"
   ]
  },
  {
   "cell_type": "code",
   "execution_count": 23,
   "id": "668ef9c9",
   "metadata": {},
   "outputs": [
    {
     "name": "stdout",
     "output_type": "stream",
     "text": [
      "['False', 'None', 'True', '__peg_parser__', 'and', 'as', 'assert', 'async', 'await', 'break', 'class', 'continue', 'def', 'del', 'elif', 'else', 'except', 'finally', 'for', 'from', 'global', 'if', 'import', 'in', 'is', 'lambda', 'nonlocal', 'not', 'or', 'pass', 'raise', 'return', 'try', 'while', 'with', 'yield']\n"
     ]
    }
   ],
   "source": [
    "import keyword # here import-->keyword,keyword--->module\n",
    "print(keyword.kwlist)"
   ]
  },
  {
   "cell_type": "code",
   "execution_count": 24,
   "id": "6f916fb0",
   "metadata": {},
   "outputs": [
    {
     "name": "stdout",
     "output_type": "stream",
     "text": [
      "36\n"
     ]
    }
   ],
   "source": [
    "print(len(keyword.kwlist))"
   ]
  },
  {
   "cell_type": "markdown",
   "id": "263803ea",
   "metadata": {},
   "source": [
    "#### dynamic input in python\n",
    "        - input()"
   ]
  },
  {
   "cell_type": "code",
   "execution_count": 25,
   "id": "e06fc4c0",
   "metadata": {},
   "outputs": [
    {
     "name": "stdout",
     "output_type": "stream",
     "text": [
      "89\n"
     ]
    },
    {
     "data": {
      "text/plain": [
       "'89'"
      ]
     },
     "execution_count": 25,
     "metadata": {},
     "output_type": "execute_result"
    }
   ],
   "source": [
    "input()  #by default it takes an input as a string format"
   ]
  },
  {
   "cell_type": "code",
   "execution_count": 26,
   "id": "e92cb3e1",
   "metadata": {},
   "outputs": [
    {
     "name": "stdout",
     "output_type": "stream",
     "text": [
      "srikanya\n"
     ]
    },
    {
     "data": {
      "text/plain": [
       "'srikanya'"
      ]
     },
     "execution_count": 26,
     "metadata": {},
     "output_type": "execute_result"
    }
   ],
   "source": [
    "input()"
   ]
  },
  {
   "cell_type": "code",
   "execution_count": 28,
   "id": "1c96f9e7",
   "metadata": {},
   "outputs": [
    {
     "name": "stdout",
     "output_type": "stream",
     "text": [
      "Enter your value:90\n"
     ]
    },
    {
     "data": {
      "text/plain": [
       "90"
      ]
     },
     "execution_count": 28,
     "metadata": {},
     "output_type": "execute_result"
    }
   ],
   "source": [
    "int(input(\"Enter your value:\"))"
   ]
  },
  {
   "cell_type": "code",
   "execution_count": 30,
   "id": "077882c2",
   "metadata": {},
   "outputs": [
    {
     "name": "stdout",
     "output_type": "stream",
     "text": [
      "Enter your number:67.89\n"
     ]
    },
    {
     "data": {
      "text/plain": [
       "67.89"
      ]
     },
     "execution_count": 30,
     "metadata": {},
     "output_type": "execute_result"
    }
   ],
   "source": [
    "float(input(\"Enter your number:\"))"
   ]
  },
  {
   "cell_type": "code",
   "execution_count": 31,
   "id": "4a37ee9b",
   "metadata": {},
   "outputs": [
    {
     "name": "stdout",
     "output_type": "stream",
     "text": [
      "Enter your name:srikanya\n"
     ]
    },
    {
     "data": {
      "text/plain": [
       "'srikanya'"
      ]
     },
     "execution_count": 31,
     "metadata": {},
     "output_type": "execute_result"
    }
   ],
   "source": [
    "str(input(\"Enter your name:\"))"
   ]
  },
  {
   "cell_type": "markdown",
   "id": "86a16080",
   "metadata": {},
   "source": [
    "#### operator:\n",
    "        - it performs operation on operands/variables\n",
    "        - ex:\n",
    "                a + b  # a,b are the operands + is the operator\n",
    "                \n",
    "#### python operators(7):\n",
    "    - arithmetic operators\n",
    "            (+,-,*,/,//,%,**)\n",
    "    - relational operators\n",
    "            (<,>,<=,>=,==,!=)\n",
    "    - Assignment operators\n",
    "            (+=,-=,*=,/=,//=,%=,**=)\n",
    "    - logical operators\n",
    "            (and,or,not)\n",
    "    - bitwise operators\n",
    "            (AND(&),OR(|),XOR(^),NOT(~),LEFTSHIFT(<<),RIGHTSHIFT(>>))\n",
    "    - identity operators\n",
    "            (is,is not)\n",
    "    - membership operators\n",
    "            (in,not in)"
   ]
  },
  {
   "cell_type": "code",
   "execution_count": null,
   "id": "99bbb515",
   "metadata": {},
   "outputs": [],
   "source": [
    "#### arithmetic"
   ]
  },
  {
   "cell_type": "code",
   "execution_count": 33,
   "id": "a4ba0be6",
   "metadata": {},
   "outputs": [
    {
     "name": "stdout",
     "output_type": "stream",
     "text": [
      "9\n",
      "1\n",
      "20\n",
      "1.25\n",
      "1\n",
      "625\n",
      "1\n"
     ]
    }
   ],
   "source": [
    "m=5\n",
    "n=4\n",
    "print(m+n)\n",
    "print(m-n)\n",
    "print(m*n)\n",
    "print(m/n)\n",
    "print(m//n)\n",
    "print(m**n)\n",
    "print(m%n)"
   ]
  },
  {
   "cell_type": "code",
   "execution_count": 34,
   "id": "882698e2",
   "metadata": {},
   "outputs": [
    {
     "data": {
      "text/plain": [
       "1"
      ]
     },
     "execution_count": 34,
     "metadata": {},
     "output_type": "execute_result"
    }
   ],
   "source": [
    "5%4"
   ]
  },
  {
   "cell_type": "code",
   "execution_count": 35,
   "id": "0b9ebe9f",
   "metadata": {},
   "outputs": [
    {
     "name": "stdout",
     "output_type": "stream",
     "text": [
      "False\n"
     ]
    }
   ],
   "source": [
    "#### relational(T,F)\n",
    "print(m<n) #(5<4)"
   ]
  },
  {
   "cell_type": "code",
   "execution_count": 36,
   "id": "5efd6e45",
   "metadata": {},
   "outputs": [
    {
     "name": "stdout",
     "output_type": "stream",
     "text": [
      "True\n"
     ]
    }
   ],
   "source": [
    "print(m>n)"
   ]
  },
  {
   "cell_type": "code",
   "execution_count": 37,
   "id": "bdd77981",
   "metadata": {},
   "outputs": [
    {
     "name": "stdout",
     "output_type": "stream",
     "text": [
      "False\n"
     ]
    }
   ],
   "source": [
    "print(m==n)"
   ]
  },
  {
   "cell_type": "code",
   "execution_count": 38,
   "id": "7f71296b",
   "metadata": {},
   "outputs": [
    {
     "name": "stdout",
     "output_type": "stream",
     "text": [
      "True\n"
     ]
    }
   ],
   "source": [
    "print(m!=n)"
   ]
  },
  {
   "cell_type": "code",
   "execution_count": 39,
   "id": "96240af2",
   "metadata": {},
   "outputs": [
    {
     "name": "stdout",
     "output_type": "stream",
     "text": [
      "False\n"
     ]
    }
   ],
   "source": [
    "print(m<=n)"
   ]
  },
  {
   "cell_type": "code",
   "execution_count": 40,
   "id": "b27b88af",
   "metadata": {},
   "outputs": [
    {
     "name": "stdout",
     "output_type": "stream",
     "text": [
      "True\n"
     ]
    }
   ],
   "source": [
    "print(m>=n)"
   ]
  },
  {
   "cell_type": "code",
   "execution_count": 46,
   "id": "5fa79b7d",
   "metadata": {},
   "outputs": [
    {
     "name": "stdout",
     "output_type": "stream",
     "text": [
      "False\n"
     ]
    }
   ],
   "source": [
    "#### logical\n",
    "c=True\n",
    "d=False\n",
    "print(c and d)"
   ]
  },
  {
   "cell_type": "code",
   "execution_count": 47,
   "id": "41ce8ae8",
   "metadata": {},
   "outputs": [
    {
     "name": "stdout",
     "output_type": "stream",
     "text": [
      "True\n"
     ]
    }
   ],
   "source": [
    "print(c or d)"
   ]
  },
  {
   "cell_type": "code",
   "execution_count": 48,
   "id": "c70ad198",
   "metadata": {},
   "outputs": [
    {
     "data": {
      "text/plain": [
       "False"
      ]
     },
     "execution_count": 48,
     "metadata": {},
     "output_type": "execute_result"
    }
   ],
   "source": [
    "not(c)"
   ]
  },
  {
   "cell_type": "code",
   "execution_count": 49,
   "id": "12261da9",
   "metadata": {},
   "outputs": [
    {
     "data": {
      "text/plain": [
       "True"
      ]
     },
     "execution_count": 49,
     "metadata": {},
     "output_type": "execute_result"
    }
   ],
   "source": [
    "not(d)"
   ]
  },
  {
   "cell_type": "code",
   "execution_count": 50,
   "id": "77b5f665",
   "metadata": {},
   "outputs": [
    {
     "data": {
      "text/plain": [
       "'0b1010'"
      ]
     },
     "execution_count": 50,
     "metadata": {},
     "output_type": "execute_result"
    }
   ],
   "source": [
    "### bitwise\n",
    "bin(10)"
   ]
  },
  {
   "cell_type": "code",
   "execution_count": 53,
   "id": "e1dbab9c",
   "metadata": {},
   "outputs": [
    {
     "name": "stdout",
     "output_type": "stream",
     "text": [
      "10\n",
      "4\n"
     ]
    }
   ],
   "source": [
    "k=10\n",
    "l=4\n",
    "print(k)\n",
    "print(l)"
   ]
  },
  {
   "cell_type": "code",
   "execution_count": 51,
   "id": "bb38227e",
   "metadata": {},
   "outputs": [
    {
     "data": {
      "text/plain": [
       "'0b100'"
      ]
     },
     "execution_count": 51,
     "metadata": {},
     "output_type": "execute_result"
    }
   ],
   "source": [
    "bin(4)"
   ]
  },
  {
   "cell_type": "code",
   "execution_count": 57,
   "id": "4f471b4a",
   "metadata": {},
   "outputs": [
    {
     "name": "stdout",
     "output_type": "stream",
     "text": [
      "0\n"
     ]
    }
   ],
   "source": [
    "print(k & l)"
   ]
  },
  {
   "cell_type": "code",
   "execution_count": null,
   "id": "a81855c4",
   "metadata": {},
   "outputs": [],
   "source": [
    "00001010\n",
    "00000100\n",
    "---------\n",
    "00001110"
   ]
  },
  {
   "cell_type": "code",
   "execution_count": 58,
   "id": "325dfe4c",
   "metadata": {},
   "outputs": [
    {
     "name": "stdout",
     "output_type": "stream",
     "text": [
      "14\n"
     ]
    }
   ],
   "source": [
    "print(k | l)"
   ]
  },
  {
   "cell_type": "code",
   "execution_count": 59,
   "id": "3ff97f81",
   "metadata": {},
   "outputs": [
    {
     "name": "stdout",
     "output_type": "stream",
     "text": [
      "14\n"
     ]
    }
   ],
   "source": [
    "print(k ^ l)"
   ]
  },
  {
   "cell_type": "code",
   "execution_count": 61,
   "id": "a39dc828",
   "metadata": {},
   "outputs": [
    {
     "name": "stdout",
     "output_type": "stream",
     "text": [
      "20\n"
     ]
    }
   ],
   "source": [
    "print(10<<1)"
   ]
  },
  {
   "cell_type": "code",
   "execution_count": null,
   "id": "41a17a92",
   "metadata": {},
   "outputs": [],
   "source": [
    "00001010\n",
    "00010100"
   ]
  },
  {
   "cell_type": "code",
   "execution_count": 62,
   "id": "59f47131",
   "metadata": {},
   "outputs": [
    {
     "name": "stdout",
     "output_type": "stream",
     "text": [
      "5\n"
     ]
    }
   ],
   "source": [
    "print(10>>1)"
   ]
  },
  {
   "cell_type": "code",
   "execution_count": null,
   "id": "fa1592f7",
   "metadata": {},
   "outputs": [],
   "source": [
    "00001010\n",
    "00000101"
   ]
  },
  {
   "cell_type": "code",
   "execution_count": null,
   "id": "9aa0c242",
   "metadata": {},
   "outputs": [],
   "source": [
    "### decimal--->binary---<bin\n",
    "### decimal--->oct--->oct"
   ]
  },
  {
   "cell_type": "code",
   "execution_count": 65,
   "id": "e4f90284",
   "metadata": {},
   "outputs": [
    {
     "data": {
      "text/plain": [
       "'0b1010'"
      ]
     },
     "execution_count": 65,
     "metadata": {},
     "output_type": "execute_result"
    }
   ],
   "source": [
    "bin(10)"
   ]
  },
  {
   "cell_type": "code",
   "execution_count": 63,
   "id": "dc430e21",
   "metadata": {},
   "outputs": [
    {
     "data": {
      "text/plain": [
       "'0o12'"
      ]
     },
     "execution_count": 63,
     "metadata": {},
     "output_type": "execute_result"
    }
   ],
   "source": [
    "oct(10)"
   ]
  },
  {
   "cell_type": "code",
   "execution_count": 64,
   "id": "d1ac1a94",
   "metadata": {},
   "outputs": [
    {
     "data": {
      "text/plain": [
       "'0x5a'"
      ]
     },
     "execution_count": 64,
     "metadata": {},
     "output_type": "execute_result"
    }
   ],
   "source": [
    "hex(90)"
   ]
  },
  {
   "cell_type": "code",
   "execution_count": 68,
   "id": "1f600ce4",
   "metadata": {},
   "outputs": [
    {
     "data": {
      "text/plain": [
       "20"
      ]
     },
     "execution_count": 68,
     "metadata": {},
     "output_type": "execute_result"
    }
   ],
   "source": [
    "#### identity\n",
    "a=10\n",
    "b=20"
   ]
  },
  {
   "cell_type": "code",
   "execution_count": 69,
   "id": "30892caf",
   "metadata": {},
   "outputs": [
    {
     "name": "stdout",
     "output_type": "stream",
     "text": [
      "False\n"
     ]
    }
   ],
   "source": [
    "print(a is b)"
   ]
  },
  {
   "cell_type": "code",
   "execution_count": 70,
   "id": "58d84ca1",
   "metadata": {},
   "outputs": [
    {
     "name": "stdout",
     "output_type": "stream",
     "text": [
      "True\n"
     ]
    }
   ],
   "source": [
    "print(a is not b)"
   ]
  },
  {
   "cell_type": "code",
   "execution_count": null,
   "id": "04efaad3",
   "metadata": {},
   "outputs": [],
   "source": [
    "### membership---->python data structures"
   ]
  },
  {
   "cell_type": "code",
   "execution_count": 76,
   "id": "bb353979",
   "metadata": {},
   "outputs": [
    {
     "name": "stdout",
     "output_type": "stream",
     "text": [
      "10\n",
      "60\n",
      "-29\n"
     ]
    }
   ],
   "source": [
    "### assignment\n",
    "a=10\n",
    "print(a)\n",
    "b+=a   #b+=,b=b+a,b=20+10\n",
    "print(b)\n",
    "c-=a           \n",
    "print(c)"
   ]
  },
  {
   "cell_type": "markdown",
   "id": "b853da6b",
   "metadata": {},
   "source": [
    "#### control statements in python\n",
    "        - for loop\n",
    "            - syntax:\n",
    "                    for variable name in range(start range,end range+1,step value):\n",
    "        - while loop\n",
    "                while(condition):\n",
    "                    print(variable)\n",
    "                    increment/decrement"
   ]
  },
  {
   "cell_type": "code",
   "execution_count": 84,
   "id": "1fa45e41",
   "metadata": {},
   "outputs": [
    {
     "name": "stdout",
     "output_type": "stream",
     "text": [
      "1   2   3   4   5   6   7   8   9   10   "
     ]
    }
   ],
   "source": [
    "for j in range(1,11,1):\n",
    "    print(j,end=\"   \")"
   ]
  },
  {
   "cell_type": "code",
   "execution_count": 86,
   "id": "6b9f3cda",
   "metadata": {},
   "outputs": [
    {
     "name": "stdout",
     "output_type": "stream",
     "text": [
      "0 1 2 3 4 5 6 7 8 9 10 "
     ]
    }
   ],
   "source": [
    "for i in range(11):\n",
    "    print(i,end=\" \")"
   ]
  },
  {
   "cell_type": "code",
   "execution_count": 87,
   "id": "27249991",
   "metadata": {},
   "outputs": [
    {
     "name": "stdout",
     "output_type": "stream",
     "text": [
      "1 3 5 7 9 "
     ]
    }
   ],
   "source": [
    "for i in range(1,11,2):  # alternate elements\n",
    "    print(i,end=\" \")\n",
    "    "
   ]
  },
  {
   "cell_type": "code",
   "execution_count": 88,
   "id": "ccf33264",
   "metadata": {},
   "outputs": [
    {
     "name": "stdout",
     "output_type": "stream",
     "text": [
      "0 2 4 6 8 10 "
     ]
    }
   ],
   "source": [
    "for i in range(0,11,2):\n",
    "    print(i,end=\" \")"
   ]
  },
  {
   "cell_type": "code",
   "execution_count": 92,
   "id": "bbc952cc",
   "metadata": {},
   "outputs": [
    {
     "name": "stdout",
     "output_type": "stream",
     "text": [
      "10 9 8 7 6 5 4 3 2 1 0 "
     ]
    }
   ],
   "source": [
    "for i in range(10,-1,-1):\n",
    "    print(i,end=\" \")"
   ]
  },
  {
   "cell_type": "code",
   "execution_count": 94,
   "id": "fbcee94c",
   "metadata": {},
   "outputs": [
    {
     "name": "stdout",
     "output_type": "stream",
     "text": [
      "1 2 3 4 5 6 7 8 9 10 "
     ]
    }
   ],
   "source": [
    "#### while\n",
    "i=1\n",
    "n=10\n",
    "while(i<=n):#1<=10,2<=10,3<=10,4<=10,5<=10\n",
    "    print(i,end=\" \")\n",
    "    i=i+1 #i=1+1=2,i=2+1=3,i=3+1=4,i=4+1=5"
   ]
  },
  {
   "cell_type": "markdown",
   "id": "e82ea4be",
   "metadata": {},
   "source": [
    "#### conditional statements\n",
    "        - if\n",
    "        - if-else\n",
    "        - elif\n",
    "        - nested-if"
   ]
  },
  {
   "cell_type": "code",
   "execution_count": 96,
   "id": "6c2054d7",
   "metadata": {},
   "outputs": [
    {
     "name": "stdout",
     "output_type": "stream",
     "text": [
      "10\n"
     ]
    }
   ],
   "source": [
    "\n",
    "if(a==10):\n",
    "    print(a)"
   ]
  },
  {
   "cell_type": "code",
   "execution_count": 98,
   "id": "dfa5a37b",
   "metadata": {},
   "outputs": [
    {
     "name": "stdout",
     "output_type": "stream",
     "text": [
      "9\n",
      "Odd no\n"
     ]
    }
   ],
   "source": [
    "n=int(input())\n",
    "if (n%2==0):\n",
    "    print(\"Even no\")\n",
    "else:\n",
    "    print(\"Odd no\")"
   ]
  },
  {
   "cell_type": "code",
   "execution_count": 99,
   "id": "ad655c66",
   "metadata": {},
   "outputs": [
    {
     "name": "stdout",
     "output_type": "stream",
     "text": [
      "56\n",
      "90\n",
      "67\n",
      "greatest no is: 90\n"
     ]
    }
   ],
   "source": [
    "e=int(input())\n",
    "f=int(input())\n",
    "g=int(input())\n",
    "if (e>f and e>g):\n",
    "    print(\"greatest no is:\",e)\n",
    "elif (f>g):\n",
    "    print(\"greatest no is:\",f)\n",
    "else:\n",
    "    print(\"greatest no is:\",g)"
   ]
  },
  {
   "cell_type": "code",
   "execution_count": null,
   "id": "91e45433",
   "metadata": {},
   "outputs": [],
   "source": []
  }
 ],
 "metadata": {
  "kernelspec": {
   "display_name": "Python 3 (ipykernel)",
   "language": "python",
   "name": "python3"
  },
  "language_info": {
   "codemirror_mode": {
    "name": "ipython",
    "version": 3
   },
   "file_extension": ".py",
   "mimetype": "text/x-python",
   "name": "python",
   "nbconvert_exporter": "python",
   "pygments_lexer": "ipython3",
   "version": "3.9.13"
  }
 },
 "nbformat": 4,
 "nbformat_minor": 5
}
