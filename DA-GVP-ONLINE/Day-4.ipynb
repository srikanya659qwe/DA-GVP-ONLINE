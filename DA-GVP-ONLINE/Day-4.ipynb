{
 "cells": [
  {
   "cell_type": "markdown",
   "id": "6b1322aa",
   "metadata": {},
   "source": [
    "#### Day Objectives:\n",
    "        - File Handling in python\n",
    "        - Data Analysis Introduction\n",
    "        - python libraries for data Analysis"
   ]
  },
  {
   "cell_type": "code",
   "execution_count": 1,
   "id": "0e6e97e8",
   "metadata": {},
   "outputs": [
    {
     "name": "stdout",
     "output_type": "stream",
     "text": [
      "Hai..students welcome to data analysis online session\n",
      "good evening students!\n",
      "this python file concept\n"
     ]
    }
   ],
   "source": [
    "#### read operation\n",
    "f=open('file.txt','r')\n",
    "data=f.read()\n",
    "print(data)\n",
    "f.close()"
   ]
  },
  {
   "cell_type": "code",
   "execution_count": 2,
   "id": "05ca0f97",
   "metadata": {},
   "outputs": [
    {
     "name": "stdout",
     "output_type": "stream",
     "text": [
      "Hai..students welcome to data analysis online session\n",
      "good evening students!\n",
      "this python file concept\n"
     ]
    }
   ],
   "source": [
    "#### with open\n",
    "with open('file.txt') as f1:\n",
    "    result=f1.read()\n",
    "    print(result)\n",
    "    "
   ]
  },
  {
   "cell_type": "code",
   "execution_count": 3,
   "id": "1c24f73d",
   "metadata": {},
   "outputs": [
    {
     "name": "stdout",
     "output_type": "stream",
     "text": [
      "49\n"
     ]
    }
   ],
   "source": [
    "#### write operation:\n",
    "### write mode\n",
    "f2=open('file.txt','w')\n",
    "data1=f2.write(\"Hello every one..welcome Apssdc online sessions!\\n\")\n",
    "print(data1)\n",
    "f2.close()\n"
   ]
  },
  {
   "cell_type": "code",
   "execution_count": 4,
   "id": "c191e72a",
   "metadata": {},
   "outputs": [
    {
     "name": "stdout",
     "output_type": "stream",
     "text": [
      "57\n"
     ]
    }
   ],
   "source": [
    "#### append mode\n",
    "f2=open('file.txt','a')\n",
    "data1=f2.write(\"Hello every one..now we are using append mode to the file\")\n",
    "print(data1)\n",
    "f2.close()"
   ]
  },
  {
   "cell_type": "code",
   "execution_count": 5,
   "id": "4912230d",
   "metadata": {},
   "outputs": [
    {
     "name": "stdout",
     "output_type": "stream",
     "text": [
      "Enter your file name here!file.txt\n",
      "Enter your file mode here!r\n",
      "Hello every one..welcome Apssdc online sessions!\n",
      "Hello every one..now we are using append mode to the file\n"
     ]
    }
   ],
   "source": [
    "### by using functions\n",
    "def ReadFile(filename):\n",
    "    with open(filename,mode) as r:\n",
    "        res=r.read()\n",
    "        print(res)\n",
    "filename=input(\"Enter your file name here!\") \n",
    "mode=input(\"Enter your file mode here!\")\n",
    "ReadFile(filename)"
   ]
  },
  {
   "cell_type": "markdown",
   "id": "90fde978",
   "metadata": {},
   "source": [
    "#### how to create a file by using file concept"
   ]
  },
  {
   "cell_type": "code",
   "execution_count": 6,
   "id": "24a72829",
   "metadata": {},
   "outputs": [
    {
     "name": "stdout",
     "output_type": "stream",
     "text": [
      "50\n"
     ]
    }
   ],
   "source": [
    "f3=open('file2.txt','w')\n",
    "data2=f3.write(\"hello student now here create a new file file2.txt\")\n",
    "print(data2)\n",
    "f3.close()"
   ]
  },
  {
   "cell_type": "code",
   "execution_count": null,
   "id": "ff09b6dd",
   "metadata": {},
   "outputs": [],
   "source": []
  }
 ],
 "metadata": {
  "kernelspec": {
   "display_name": "Python 3 (ipykernel)",
   "language": "python",
   "name": "python3"
  },
  "language_info": {
   "codemirror_mode": {
    "name": "ipython",
    "version": 3
   },
   "file_extension": ".py",
   "mimetype": "text/x-python",
   "name": "python",
   "nbconvert_exporter": "python",
   "pygments_lexer": "ipython3",
   "version": "3.9.13"
  }
 },
 "nbformat": 4,
 "nbformat_minor": 5
}
