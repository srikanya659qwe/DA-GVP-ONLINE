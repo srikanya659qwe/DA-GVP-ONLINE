{
 "cells": [
  {
   "cell_type": "markdown",
   "id": "c73a61bc",
   "metadata": {},
   "source": [
    "#### Day Objectives:\n",
    "        - Package and module\n",
    "        - file handling in python"
   ]
  },
  {
   "cell_type": "markdown",
   "id": "582ed609",
   "metadata": {},
   "source": [
    "#### string:\n",
    "        - it is a collection of characters\n",
    "        - for the representation we are using either ' ' or \" \" or ''' '''\n",
    "        - syntax:\n",
    "            str_variable=\" \""
   ]
  },
  {
   "cell_type": "code",
   "execution_count": 4,
   "id": "a2d031d8",
   "metadata": {},
   "outputs": [
    {
     "name": "stdout",
     "output_type": "stream",
     "text": [
      "data analysis workshop\n"
     ]
    }
   ],
   "source": [
    "s='''data analysis workshop'''\n",
    "print(s)"
   ]
  },
  {
   "cell_type": "code",
   "execution_count": 5,
   "id": "b6b257ff",
   "metadata": {},
   "outputs": [
    {
     "data": {
      "text/plain": [
       "str"
      ]
     },
     "execution_count": 5,
     "metadata": {},
     "output_type": "execute_result"
    }
   ],
   "source": [
    "type(s)"
   ]
  },
  {
   "cell_type": "markdown",
   "id": "270489e1",
   "metadata": {},
   "source": [
    "#### how to access characters in string\n",
    "    - index\n",
    "    - index starts from 0\n",
    "    - syntax:\n",
    "        str_variable_name[index_position]\n",
    "    - positive index\n",
    "            left to right(0)\n",
    "    - negetive index\n",
    "            right to left(-1)"
   ]
  },
  {
   "cell_type": "code",
   "execution_count": 9,
   "id": "d09fe9a6",
   "metadata": {},
   "outputs": [
    {
     "name": "stdout",
     "output_type": "stream",
     "text": [
      "data analysis workshop\n",
      "22\n"
     ]
    }
   ],
   "source": [
    "print(s)\n",
    "print(len(s))"
   ]
  },
  {
   "cell_type": "code",
   "execution_count": 11,
   "id": "eae00aed",
   "metadata": {},
   "outputs": [
    {
     "name": "stdout",
     "output_type": "stream",
     "text": [
      "d\n",
      "l\n",
      "o\n",
      "p\n"
     ]
    }
   ],
   "source": [
    "print(s[0])\n",
    "print(s[8])\n",
    "print(s[15])\n",
    "print(s[21])"
   ]
  },
  {
   "cell_type": "markdown",
   "id": "17822373",
   "metadata": {},
   "source": [
    "#### slicing:\n",
    "    - by using slicing we can access more than one elements from the string\n",
    "    - syntax:\n",
    "        str_variable_name[start range:end range+1:step value]"
   ]
  },
  {
   "cell_type": "code",
   "execution_count": 12,
   "id": "cc828035",
   "metadata": {},
   "outputs": [
    {
     "name": "stdout",
     "output_type": "stream",
     "text": [
      "data analysis workshop\n"
     ]
    }
   ],
   "source": [
    "print(s)"
   ]
  },
  {
   "cell_type": "code",
   "execution_count": 26,
   "id": "a38e5a49",
   "metadata": {},
   "outputs": [
    {
     "name": "stdout",
     "output_type": "stream",
     "text": [
      "dat\n",
      "analysis\n",
      "workshop\n",
      "data analysis workshop\n",
      "pohskrow sisylana atad\n",
      "pohskrow sisylana atad\n"
     ]
    }
   ],
   "source": [
    "print(s[0:3:1])\n",
    "print(s[5:13:1])\n",
    "print(s[14:])\n",
    "print(s[:])\n",
    "print(s[-1:-23:-1])\n",
    "print(s[::-1])"
   ]
  },
  {
   "cell_type": "code",
   "execution_count": 27,
   "id": "f98f7c4b",
   "metadata": {},
   "outputs": [
    {
     "name": "stdout",
     "output_type": "stream",
     "text": [
      "['__add__', '__class__', '__contains__', '__delattr__', '__dir__', '__doc__', '__eq__', '__format__', '__ge__', '__getattribute__', '__getitem__', '__getnewargs__', '__gt__', '__hash__', '__init__', '__init_subclass__', '__iter__', '__le__', '__len__', '__lt__', '__mod__', '__mul__', '__ne__', '__new__', '__reduce__', '__reduce_ex__', '__repr__', '__rmod__', '__rmul__', '__setattr__', '__sizeof__', '__str__', '__subclasshook__', 'capitalize', 'casefold', 'center', 'count', 'encode', 'endswith', 'expandtabs', 'find', 'format', 'format_map', 'index', 'isalnum', 'isalpha', 'isascii', 'isdecimal', 'isdigit', 'isidentifier', 'islower', 'isnumeric', 'isprintable', 'isspace', 'istitle', 'isupper', 'join', 'ljust', 'lower', 'lstrip', 'maketrans', 'partition', 'removeprefix', 'removesuffix', 'replace', 'rfind', 'rindex', 'rjust', 'rpartition', 'rsplit', 'rstrip', 'split', 'splitlines', 'startswith', 'strip', 'swapcase', 'title', 'translate', 'upper', 'zfill']\n"
     ]
    }
   ],
   "source": [
    "print(dir(str))"
   ]
  },
  {
   "cell_type": "markdown",
   "id": "43d5b54e",
   "metadata": {},
   "source": [
    "#### function:\n",
    "    - it is a collection of statements to execute a block of code\n",
    "    - re usability\n",
    "    - syntax:\n",
    "        def function name(parameters):  # function defintion\n",
    "                ### block of code\n",
    "            \n",
    "        function name(arguments/values) # function calling"
   ]
  },
  {
   "cell_type": "markdown",
   "id": "da0f4feb",
   "metadata": {},
   "source": [
    "#### types of functions in python:\n",
    "        - with arguments without return value\n",
    "        - with arguments with return value\n",
    "        - without argument with return value\n",
    "        - without argument and without return value"
   ]
  },
  {
   "cell_type": "code",
   "execution_count": 28,
   "id": "d4ce07c0",
   "metadata": {},
   "outputs": [
    {
     "name": "stdout",
     "output_type": "stream",
     "text": [
      "13\n"
     ]
    }
   ],
   "source": [
    "### with arguments without return value\n",
    "def add(n1,n2):\n",
    "    result=n1+n2\n",
    "    print(result)\n",
    "add(6,7)"
   ]
  },
  {
   "cell_type": "code",
   "execution_count": 29,
   "id": "347f14f0",
   "metadata": {},
   "outputs": [
    {
     "data": {
      "text/plain": [
       "16"
      ]
     },
     "execution_count": 29,
     "metadata": {},
     "output_type": "execute_result"
    }
   ],
   "source": [
    "### with arguments with return value\n",
    "def power(bval,exval):\n",
    "    return bval**exval\n",
    "power(2,4)"
   ]
  },
  {
   "cell_type": "code",
   "execution_count": 30,
   "id": "6167fea7",
   "metadata": {},
   "outputs": [
    {
     "name": "stdout",
     "output_type": "stream",
     "text": [
      "6\n",
      "4\n"
     ]
    },
    {
     "data": {
      "text/plain": [
       "2"
      ]
     },
     "execution_count": 30,
     "metadata": {},
     "output_type": "execute_result"
    }
   ],
   "source": [
    "### without argument with return value\n",
    "d=int(input())\n",
    "f=int(input())\n",
    "def modulo(d,f):\n",
    "    result=d%f\n",
    "    return result \n",
    "modulo(d,f)"
   ]
  },
  {
   "cell_type": "code",
   "execution_count": 31,
   "id": "c5ebcaab",
   "metadata": {},
   "outputs": [
    {
     "name": "stdout",
     "output_type": "stream",
     "text": [
      "5\n",
      "2\n",
      "1\n"
     ]
    }
   ],
   "source": [
    "#### without argument and without return value\n",
    "d=int(input())\n",
    "f=int(input())\n",
    "def modulo(d,f):\n",
    "    result=d%f\n",
    "    print(result) \n",
    "modulo(d,f)"
   ]
  },
  {
   "cell_type": "markdown",
   "id": "c471ea0b",
   "metadata": {},
   "source": [
    "#### Data Structures in python:\n",
    "    - data structure:\n",
    "        - it is a way of to store and organizing the data\n",
    "        - python contains 4 different types of data structures:\n",
    "                - list\n",
    "                - tuple\n",
    "                - dictionary\n",
    "                - set"
   ]
  },
  {
   "cell_type": "markdown",
   "id": "f09dfe5b",
   "metadata": {},
   "source": [
    "### list:\n",
    "    - it is a one of the python data structure\n",
    "    - in list we can store different data type of data\n",
    "    - list is a mutable(change the list elements)\n",
    "    - for the representation we are using '[]'\n",
    "    - syntax:\n",
    "        list_variable_name=[e1,e2,e3....en]"
   ]
  },
  {
   "cell_type": "code",
   "execution_count": 32,
   "id": "95ea6546",
   "metadata": {},
   "outputs": [
    {
     "name": "stdout",
     "output_type": "stream",
     "text": [
      "[]\n"
     ]
    }
   ],
   "source": [
    "li=[]\n",
    "print(li)"
   ]
  },
  {
   "cell_type": "code",
   "execution_count": 33,
   "id": "a7800bfd",
   "metadata": {},
   "outputs": [
    {
     "data": {
      "text/plain": [
       "list"
      ]
     },
     "execution_count": 33,
     "metadata": {},
     "output_type": "execute_result"
    }
   ],
   "source": [
    "type(li)"
   ]
  },
  {
   "cell_type": "code",
   "execution_count": 37,
   "id": "206a3dde",
   "metadata": {},
   "outputs": [
    {
     "name": "stdout",
     "output_type": "stream",
     "text": [
      "[45, 67, 90, 34, 67.45, 'python', 21, 'workshop']\n",
      "<class 'list'>\n",
      "8\n"
     ]
    }
   ],
   "source": [
    "li=[45,67,90,34,67.45,\"python\",21,\"workshop\"]\n",
    "print(li)\n",
    "print(type(li))\n",
    "print(len(li))"
   ]
  },
  {
   "cell_type": "code",
   "execution_count": 40,
   "id": "fba3b2ea",
   "metadata": {},
   "outputs": [
    {
     "name": "stdout",
     "output_type": "stream",
     "text": [
      "45\n",
      "workshop\n",
      "[45, 67, 90, 34, 67.45, 'python', 21, 'workshop']\n",
      "['workshop', 21, 'python', 67.45, 34, 90, 67, 45]\n"
     ]
    }
   ],
   "source": [
    "print(li[0])\n",
    "print(li[7])\n",
    "print(li[:])\n",
    "print(li[::-1])"
   ]
  },
  {
   "cell_type": "code",
   "execution_count": 41,
   "id": "55e7fe3c",
   "metadata": {},
   "outputs": [
    {
     "name": "stdout",
     "output_type": "stream",
     "text": [
      "['__add__', '__class__', '__class_getitem__', '__contains__', '__delattr__', '__delitem__', '__dir__', '__doc__', '__eq__', '__format__', '__ge__', '__getattribute__', '__getitem__', '__gt__', '__hash__', '__iadd__', '__imul__', '__init__', '__init_subclass__', '__iter__', '__le__', '__len__', '__lt__', '__mul__', '__ne__', '__new__', '__reduce__', '__reduce_ex__', '__repr__', '__reversed__', '__rmul__', '__setattr__', '__setitem__', '__sizeof__', '__str__', '__subclasshook__', 'append', 'clear', 'copy', 'count', 'extend', 'index', 'insert', 'pop', 'remove', 'reverse', 'sort']\n"
     ]
    }
   ],
   "source": [
    "#### list methods\n",
    "print(dir(list))"
   ]
  },
  {
   "cell_type": "markdown",
   "id": "d86508b3",
   "metadata": {},
   "source": [
    "#### tuple:\n",
    "    - it is a python data structure\n",
    "    - we can store multiple data types data\n",
    "    - for the representation we are using \"()\"\n",
    "    - it is a immutable(we cant change the data)\n",
    "    - syntax:\n",
    "        tuple_variable=(e1,e2,e3,e4....en)"
   ]
  },
  {
   "cell_type": "code",
   "execution_count": 43,
   "id": "f4a7c135",
   "metadata": {},
   "outputs": [
    {
     "name": "stdout",
     "output_type": "stream",
     "text": [
      "()\n",
      "<class 'tuple'>\n"
     ]
    }
   ],
   "source": [
    "t=()\n",
    "print(t)\n",
    "print(type(t))"
   ]
  },
  {
   "cell_type": "code",
   "execution_count": 45,
   "id": "32dfb24b",
   "metadata": {},
   "outputs": [
    {
     "name": "stdout",
     "output_type": "stream",
     "text": [
      "(45, 90, 56, 12, 15, 'online')\n",
      "<class 'tuple'>\n"
     ]
    }
   ],
   "source": [
    "t=(45,90,56,12,15,'online')\n",
    "print(t)\n",
    "print(type(t))"
   ]
  },
  {
   "cell_type": "code",
   "execution_count": 46,
   "id": "2ea44f7d",
   "metadata": {},
   "outputs": [
    {
     "name": "stdout",
     "output_type": "stream",
     "text": [
      "['__add__', '__class__', '__class_getitem__', '__contains__', '__delattr__', '__dir__', '__doc__', '__eq__', '__format__', '__ge__', '__getattribute__', '__getitem__', '__getnewargs__', '__gt__', '__hash__', '__init__', '__init_subclass__', '__iter__', '__le__', '__len__', '__lt__', '__mul__', '__ne__', '__new__', '__reduce__', '__reduce_ex__', '__repr__', '__rmul__', '__setattr__', '__sizeof__', '__str__', '__subclasshook__', 'count', 'index']\n"
     ]
    }
   ],
   "source": [
    "print(dir(tuple))"
   ]
  },
  {
   "cell_type": "markdown",
   "id": "5f442f76",
   "metadata": {},
   "source": [
    "#### dictionary:\n",
    "    - it is key and value pair\n",
    "    - it is a mutable\n",
    "    - in dictionary key names are unique\n",
    "    - for the representation we are using \"{}\"\n",
    "    - syntax:\n",
    "        dict_variable={key:value,key1:value1,key2:value2......key n:value n}\n",
    "        "
   ]
  },
  {
   "cell_type": "code",
   "execution_count": 48,
   "id": "6a5561a4",
   "metadata": {},
   "outputs": [
    {
     "name": "stdout",
     "output_type": "stream",
     "text": [
      "{}\n",
      "<class 'dict'>\n"
     ]
    }
   ],
   "source": [
    "d={}\n",
    "print(d)\n",
    "print(type(d))"
   ]
  },
  {
   "cell_type": "code",
   "execution_count": 50,
   "id": "396fc8e1",
   "metadata": {},
   "outputs": [
    {
     "name": "stdout",
     "output_type": "stream",
     "text": [
      "{'name': 'srikanya', 'rollnumber': 567, 'branch': 'CSE', 'section': 'A', 'cgpa': 9.0}\n",
      "<class 'dict'>\n"
     ]
    }
   ],
   "source": [
    "d={'name':'srikanya','rollnumber':567,'branch':'CSE','section':'A','cgpa':9.0}\n",
    "print(d)\n",
    "print(type(d))"
   ]
  },
  {
   "cell_type": "markdown",
   "id": "002d087e",
   "metadata": {},
   "source": [
    "#### how to access values in dict\n",
    "        - dict_variable[key name]"
   ]
  },
  {
   "cell_type": "code",
   "execution_count": 52,
   "id": "c5c98dd9",
   "metadata": {},
   "outputs": [
    {
     "data": {
      "text/plain": [
       "'CSE'"
      ]
     },
     "execution_count": 52,
     "metadata": {},
     "output_type": "execute_result"
    }
   ],
   "source": [
    "d['branch']"
   ]
  },
  {
   "cell_type": "code",
   "execution_count": 53,
   "id": "d747eb04",
   "metadata": {},
   "outputs": [
    {
     "data": {
      "text/plain": [
       "'srikanya'"
      ]
     },
     "execution_count": 53,
     "metadata": {},
     "output_type": "execute_result"
    }
   ],
   "source": [
    "d['name']"
   ]
  },
  {
   "cell_type": "code",
   "execution_count": 54,
   "id": "e3b544d6",
   "metadata": {},
   "outputs": [
    {
     "data": {
      "text/plain": [
       "9.0"
      ]
     },
     "execution_count": 54,
     "metadata": {},
     "output_type": "execute_result"
    }
   ],
   "source": [
    "d['cgpa']"
   ]
  },
  {
   "cell_type": "code",
   "execution_count": 55,
   "id": "0588a159",
   "metadata": {},
   "outputs": [
    {
     "name": "stdout",
     "output_type": "stream",
     "text": [
      "['__class__', '__class_getitem__', '__contains__', '__delattr__', '__delitem__', '__dir__', '__doc__', '__eq__', '__format__', '__ge__', '__getattribute__', '__getitem__', '__gt__', '__hash__', '__init__', '__init_subclass__', '__ior__', '__iter__', '__le__', '__len__', '__lt__', '__ne__', '__new__', '__or__', '__reduce__', '__reduce_ex__', '__repr__', '__reversed__', '__ror__', '__setattr__', '__setitem__', '__sizeof__', '__str__', '__subclasshook__', 'clear', 'copy', 'fromkeys', 'get', 'items', 'keys', 'pop', 'popitem', 'setdefault', 'update', 'values']\n"
     ]
    }
   ],
   "source": [
    "print(dir(dict))"
   ]
  },
  {
   "cell_type": "markdown",
   "id": "3bc12bcc",
   "metadata": {},
   "source": [
    "### set:\n",
    "    - it is a python data structure\n",
    "    - it contains different types of data\n",
    "    - for the representation we are using \"{}\"\n",
    "    - set is an unordered and un indexed\n",
    "    - syntax:\n",
    "        set_variable_name={e1,e2,e3....en}"
   ]
  },
  {
   "cell_type": "code",
   "execution_count": 57,
   "id": "c9d8a81e",
   "metadata": {},
   "outputs": [
    {
     "name": "stdout",
     "output_type": "stream",
     "text": [
      "{}\n",
      "<class 'dict'>\n"
     ]
    }
   ],
   "source": [
    "s={}\n",
    "print(s)\n",
    "print(type(s))"
   ]
  },
  {
   "cell_type": "code",
   "execution_count": 59,
   "id": "c5f11923",
   "metadata": {},
   "outputs": [
    {
     "name": "stdout",
     "output_type": "stream",
     "text": [
      "{1}\n",
      "<class 'set'>\n"
     ]
    }
   ],
   "source": [
    "s={1}\n",
    "print(s)\n",
    "print(type(s))"
   ]
  },
  {
   "cell_type": "code",
   "execution_count": 61,
   "id": "ab29961c",
   "metadata": {},
   "outputs": [
    {
     "name": "stdout",
     "output_type": "stream",
     "text": [
      "{89.56, 23, 56, 89, 90, 45}\n",
      "<class 'set'>\n"
     ]
    }
   ],
   "source": [
    "s={23,56,89,90,45,89.56}\n",
    "print(s)\n",
    "print(type(s))"
   ]
  },
  {
   "cell_type": "code",
   "execution_count": 62,
   "id": "7611e8b2",
   "metadata": {},
   "outputs": [
    {
     "name": "stdout",
     "output_type": "stream",
     "text": [
      "['__and__', '__class__', '__class_getitem__', '__contains__', '__delattr__', '__dir__', '__doc__', '__eq__', '__format__', '__ge__', '__getattribute__', '__gt__', '__hash__', '__iand__', '__init__', '__init_subclass__', '__ior__', '__isub__', '__iter__', '__ixor__', '__le__', '__len__', '__lt__', '__ne__', '__new__', '__or__', '__rand__', '__reduce__', '__reduce_ex__', '__repr__', '__ror__', '__rsub__', '__rxor__', '__setattr__', '__sizeof__', '__str__', '__sub__', '__subclasshook__', '__xor__', 'add', 'clear', 'copy', 'difference', 'difference_update', 'discard', 'intersection', 'intersection_update', 'isdisjoint', 'issubset', 'issuperset', 'pop', 'remove', 'symmetric_difference', 'symmetric_difference_update', 'union', 'update']\n"
     ]
    }
   ],
   "source": [
    "print(dir(set))"
   ]
  },
  {
   "cell_type": "code",
   "execution_count": 69,
   "id": "8d1a0444",
   "metadata": {},
   "outputs": [
    {
     "name": "stdout",
     "output_type": "stream",
     "text": [
      "{0, 1, 2, 3, 4, 5, 6, 8, 9}\n"
     ]
    }
   ],
   "source": [
    "### union\n",
    "set1={3,4,6,8,9,5}\n",
    "set2={2,6,9,1,0,3}\n",
    "print(set1.union(set2))"
   ]
  },
  {
   "cell_type": "code",
   "execution_count": 70,
   "id": "665072fe",
   "metadata": {},
   "outputs": [
    {
     "name": "stdout",
     "output_type": "stream",
     "text": [
      "{9, 6}\n"
     ]
    }
   ],
   "source": [
    "### intersection\n",
    "set1={3,4,6,8,9}\n",
    "set2={2,6,9,1,0}\n",
    "print(set1.intersection(set2))"
   ]
  },
  {
   "cell_type": "code",
   "execution_count": 72,
   "id": "6fd9c521",
   "metadata": {},
   "outputs": [
    {
     "name": "stdout",
     "output_type": "stream",
     "text": [
      "{8, 3, 4}\n"
     ]
    }
   ],
   "source": [
    "#### difference\n",
    "set1={3,4,6,8,9}\n",
    "set2={2,6,9,1,0}\n",
    "print(set1.difference(set2))"
   ]
  },
  {
   "cell_type": "markdown",
   "id": "69c72fb9",
   "metadata": {},
   "source": [
    "#### package and module:\n",
    "#### package:\n",
    "    - it is a collection of modules\n",
    "#### module:\n",
    "    - it is .py file\n",
    "    - it contains collection functions,variables,classes...\n",
    "    - for access a module we are using one keyword\n",
    "            i.e import module name\n",
    "            \n",
    "#### types of modules:\n",
    "       - built in modules\n",
    "       - user defined module\n",
    "               - the module which is created by a user"
   ]
  },
  {
   "cell_type": "code",
   "execution_count": null,
   "id": "30e7ec4e",
   "metadata": {},
   "outputs": [],
   "source": [
    "#### built-in modules"
   ]
  },
  {
   "cell_type": "code",
   "execution_count": 73,
   "id": "afa83817",
   "metadata": {},
   "outputs": [
    {
     "name": "stdout",
     "output_type": "stream",
     "text": [
      "['False', 'None', 'True', '__peg_parser__', 'and', 'as', 'assert', 'async', 'await', 'break', 'class', 'continue', 'def', 'del', 'elif', 'else', 'except', 'finally', 'for', 'from', 'global', 'if', 'import', 'in', 'is', 'lambda', 'nonlocal', 'not', 'or', 'pass', 'raise', 'return', 'try', 'while', 'with', 'yield']\n"
     ]
    }
   ],
   "source": [
    "import keyword\n",
    "print(keyword.kwlist)\n"
   ]
  },
  {
   "cell_type": "code",
   "execution_count": 80,
   "id": "a8413e52",
   "metadata": {},
   "outputs": [
    {
     "name": "stdout",
     "output_type": "stream",
     "text": [
      "120\n",
      "6\n",
      "3.141592653589793\n",
      "16.0\n",
      "20.085536923187668\n",
      "8.0\n"
     ]
    }
   ],
   "source": [
    "import math\n",
    "print(math.factorial(5))\n",
    "print(math.gcd(6,24))\n",
    "print(math.pi)\n",
    "print(math.pow(2,4))\n",
    "print(math.exp(3))\n",
    "print(math.sqrt(64))"
   ]
  },
  {
   "cell_type": "code",
   "execution_count": 83,
   "id": "c6eb2692",
   "metadata": {},
   "outputs": [
    {
     "name": "stdout",
     "output_type": "stream",
     "text": [
      "0.6931471805599453\n",
      "1.0\n",
      "1.0\n"
     ]
    }
   ],
   "source": [
    "#### logrithimic\n",
    "print(math.log(2))\n",
    "print(math.log2(2))\n",
    "print(math.log10(10))"
   ]
  },
  {
   "cell_type": "code",
   "execution_count": 89,
   "id": "39b3fafa",
   "metadata": {},
   "outputs": [
    {
     "name": "stdout",
     "output_type": "stream",
     "text": [
      "0.25\n",
      "0.24740395925452294\n",
      "0.9689124217106447\n",
      "0.25534192122103627\n",
      "3.91631736464594\n"
     ]
    }
   ],
   "source": [
    "### trignometric\n",
    "x=0.25\n",
    "print(x)\n",
    "print(math.sin(x))\n",
    "print(math.cos(x))\n",
    "print(math.tan(x))\n",
    "print(math.cos(x)/math.sin(x))"
   ]
  },
  {
   "cell_type": "code",
   "execution_count": 90,
   "id": "d633da5c",
   "metadata": {},
   "outputs": [
    {
     "name": "stdout",
     "output_type": "stream",
     "text": [
      "['C:\\\\Users\\\\win\\\\Documents\\\\DA-GVP-ONLINE', 'C:\\\\ProgramData\\\\Anaconda3\\\\python39.zip', 'C:\\\\ProgramData\\\\Anaconda3\\\\DLLs', 'C:\\\\ProgramData\\\\Anaconda3\\\\lib', 'C:\\\\ProgramData\\\\Anaconda3', '', 'C:\\\\Users\\\\win\\\\AppData\\\\Roaming\\\\Python\\\\Python39\\\\site-packages', 'C:\\\\ProgramData\\\\Anaconda3\\\\lib\\\\site-packages', 'C:\\\\ProgramData\\\\Anaconda3\\\\lib\\\\site-packages\\\\win32', 'C:\\\\ProgramData\\\\Anaconda3\\\\lib\\\\site-packages\\\\win32\\\\lib', 'C:\\\\ProgramData\\\\Anaconda3\\\\lib\\\\site-packages\\\\Pythonwin', 'C:\\\\ProgramData\\\\Anaconda3\\\\lib\\\\site-packages\\\\IPython\\\\extensions', 'C:\\\\Users\\\\win\\\\.ipython']\n"
     ]
    }
   ],
   "source": [
    "#### sys\n",
    "import sys\n",
    "print(sys.path)"
   ]
  },
  {
   "cell_type": "code",
   "execution_count": 96,
   "id": "2efe9266",
   "metadata": {},
   "outputs": [
    {
     "name": "stdout",
     "output_type": "stream",
     "text": [
      "[89, 90, 23, 56, 23, 12, 10, 60]\n",
      "[10, 12, 23, 23, 56, 60, 89, 90]\n"
     ]
    }
   ],
   "source": [
    "### statistics\n",
    "import statistics\n",
    "li1=[89,90,23,56,23,12,10,60]\n",
    "print(li1)\n",
    "print(sorted(li1))"
   ]
  },
  {
   "cell_type": "code",
   "execution_count": 101,
   "id": "402428ac",
   "metadata": {},
   "outputs": [
    {
     "name": "stdout",
     "output_type": "stream",
     "text": [
      "45.375\n",
      "39.5\n",
      "23\n",
      "1083.982142857143\n",
      "32.92388407914751\n"
     ]
    }
   ],
   "source": [
    "print(statistics.mean(li1))\n",
    "print(statistics.median(li1))\n",
    "print(statistics.mode(li1))\n",
    "print(statistics.variance(li1))\n",
    "print(statistics.stdev(li1))"
   ]
  },
  {
   "cell_type": "code",
   "execution_count": 102,
   "id": "3289d8f0",
   "metadata": {},
   "outputs": [],
   "source": [
    "#### user-defined module\n",
    "import Sample"
   ]
  },
  {
   "cell_type": "code",
   "execution_count": 104,
   "id": "ca2bc5b1",
   "metadata": {},
   "outputs": [
    {
     "name": "stdout",
     "output_type": "stream",
     "text": [
      "False\n"
     ]
    }
   ],
   "source": [
    "print(Sample.IsEven(9))"
   ]
  },
  {
   "cell_type": "markdown",
   "id": "578186ce",
   "metadata": {},
   "source": [
    "##### File Handling In python:\n",
    "#### File:\n",
    "    - it contains collection information/data\n",
    "    - file types:.txt,.py,.excel,.html,.csv,.tsv.....\n",
    "    \n",
    "#### file handling steps:\n",
    "    - open a file\n",
    "            - open(p1,p2)\n",
    "                    open(filename,mode)\n",
    "            - with open()\n",
    "    - doing an operation\n",
    "            - read operation\n",
    "                    read()\n",
    "            - write operation\n",
    "                    write(data)\n",
    "    - close a file\n",
    "            close()\n",
    "\n",
    "#### file operations:\n",
    "    - read operation\n",
    "            - read()\n",
    "    - write operation\n",
    "            - write(data)\n",
    "        \n",
    "#### file modes:\n",
    "        - read mode('r')-->default mode\n",
    "        - write mode('w')\n",
    "        - append mode('a')\n"
   ]
  },
  {
   "cell_type": "code",
   "execution_count": null,
   "id": "a1e7b963",
   "metadata": {},
   "outputs": [],
   "source": []
  }
 ],
 "metadata": {
  "kernelspec": {
   "display_name": "Python 3 (ipykernel)",
   "language": "python",
   "name": "python3"
  },
  "language_info": {
   "codemirror_mode": {
    "name": "ipython",
    "version": 3
   },
   "file_extension": ".py",
   "mimetype": "text/x-python",
   "name": "python",
   "nbconvert_exporter": "python",
   "pygments_lexer": "ipython3",
   "version": "3.9.13"
  }
 },
 "nbformat": 4,
 "nbformat_minor": 5
}
